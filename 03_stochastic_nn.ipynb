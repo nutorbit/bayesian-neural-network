{
 "cells": [
  {
   "cell_type": "markdown",
   "metadata": {},
   "source": [
    "# Stochastic approach\n",
    "\n",
    "Use stochastic output instead deterministic output"
   ]
  },
  {
   "cell_type": "code",
   "execution_count": 1,
   "metadata": {},
   "outputs": [],
   "source": [
    "import tensorflow as tf\n",
    "import matplotlib.pyplot as plt\n",
    "import numpy as np"
   ]
  },
  {
   "cell_type": "code",
   "execution_count": 2,
   "metadata": {},
   "outputs": [
    {
     "data": {
      "text/plain": [
       "((11, 1), (11, 1))"
      ]
     },
     "execution_count": 2,
     "metadata": {},
     "output_type": "execute_result"
    }
   ],
   "source": [
    "X = np.array([1, 1, 1, 2, 2, 3, 3, 4, 4, 5, 6]).reshape((-1, 1))\n",
    "y = np.array([1, 1.5, 1.2, 3, 4, 4, 5, 6, 7, 8, 9]).reshape((-1, 1))\n",
    "\n",
    "X.shape, y.shape"
   ]
  },
  {
   "cell_type": "code",
   "execution_count": 3,
   "metadata": {},
   "outputs": [
    {
     "data": {
      "text/plain": [
       "<matplotlib.legend.Legend at 0x7fc036c83a10>"
      ]
     },
     "execution_count": 3,
     "metadata": {},
     "output_type": "execute_result"
    },
    {
     "data": {
      "image/png": "[encoded data removed]",
      "text/plain": [
       "<Figure size 432x288 with 1 Axes>"
      ]
     },
     "metadata": {
      "needs_background": "light"
     },
     "output_type": "display_data"
    }
   ],
   "source": [
    "plt.scatter(X, y, label=\"actual\")\n",
    "plt.legend()"
   ]
  },
  {
   "cell_type": "code",
   "execution_count": 4,
   "metadata": {},
   "outputs": [],
   "source": [
    "class StochasticNN(tf.keras.Model):\n",
    "    def __init__(self):\n",
    "        super().__init__()\n",
    "        self.hiddens = tf.keras.Sequential([tf.keras.layers.Dense(4)] * 3)\n",
    "        self.mu = tf.keras.layers.Dense(1)\n",
    "        self.rho = tf.keras.layers.Dense(1) \n",
    "        \n",
    "    def parameterize(self, mu, rho):\n",
    "        eps = tf.random.normal(tf.shape(mu), 0, 1)\n",
    "        sigma = tf.math.softplus(rho)\n",
    "        \n",
    "        return mu + sigma * eps\n",
    "        \n",
    "    def call(self, x):\n",
    "        x = self.hiddens(x)\n",
    "        mu = self.mu(x)\n",
    "        rho = self.rho(x)\n",
    "        out = self.parameterize(mu, rho)\n",
    "        return out"
   ]
  },
  {
   "cell_type": "code",
   "execution_count": 5,
   "metadata": {},
   "outputs": [],
   "source": [
    "model = StochasticNN()"
   ]
  },
  {
   "cell_type": "code",
   "execution_count": 6,
   "metadata": {},
   "outputs": [],
   "source": [
    "opt = tf.keras.optimizers.Adam(lr=0.01)\n",
    "model.compile(loss=\"MSE\", optimizer=opt)"
   ]
  },
  {
   "cell_type": "code",
   "execution_count": 7,
   "metadata": {},
   "outputs": [
    {
     "name": "stdout",
     "output_type": "stream",
     "text": [
      "Epoch 1/50\n",
      "2/2 [==============================] - 0s 2ms/step - loss: 42.6246\n",
      "Epoch 2/50\n",
      "2/2 [==============================] - 0s 3ms/step - loss: 45.7339\n",
      "Epoch 3/50\n",
      "2/2 [==============================] - 0s 2ms/step - loss: 32.8458\n",
      "Epoch 4/50\n",
      "2/2 [==============================] - 0s 2ms/step - loss: 33.0599\n",
      "Epoch 5/50\n",
      "2/2 [==============================] - 0s 7ms/step - loss: 29.8075\n",
      "Epoch 6/50\n",
      "2/2 [==============================] - 0s 2ms/step - loss: 25.0131\n",
      "Epoch 7/50\n",
      "2/2 [==============================] - 0s 7ms/step - loss: 19.9596\n",
      "Epoch 8/50\n",
      "2/2 [==============================] - 0s 2ms/step - loss: 22.2054\n",
      "Epoch 9/50\n",
      "2/2 [==============================] - 0s 6ms/step - loss: 14.8131\n",
      "Epoch 10/50\n",
      "2/2 [==============================] - 0s 3ms/step - loss: 15.8835\n",
      "Epoch 11/50\n",
      "2/2 [==============================] - 0s 2ms/step - loss: 10.8436\n",
      "Epoch 12/50\n",
      "2/2 [==============================] - 0s 4ms/step - loss: 12.4892\n",
      "Epoch 13/50\n",
      "2/2 [==============================] - 0s 2ms/step - loss: 8.3535\n",
      "Epoch 14/50\n",
      "2/2 [==============================] - 0s 5ms/step - loss: 9.2423\n",
      "Epoch 15/50\n",
      "2/2 [==============================] - 0s 5ms/step - loss: 8.1815\n",
      "Epoch 16/50\n",
      "2/2 [==============================] - 0s 4ms/step - loss: 5.1720\n",
      "Epoch 17/50\n",
      "2/2 [==============================] - 0s 4ms/step - loss: 4.9870\n",
      "Epoch 18/50\n",
      "2/2 [==============================] - 0s 2ms/step - loss: 4.5796\n",
      "Epoch 19/50\n",
      "2/2 [==============================] - 0s 16ms/step - loss: 5.3005\n",
      "Epoch 20/50\n",
      "2/2 [==============================] - 0s 3ms/step - loss: 5.0368\n",
      "Epoch 21/50\n",
      "2/2 [==============================] - 0s 2ms/step - loss: 3.6849\n",
      "Epoch 22/50\n",
      "2/2 [==============================] - 0s 4ms/step - loss: 2.4032\n",
      "Epoch 23/50\n",
      "2/2 [==============================] - 0s 3ms/step - loss: 3.6827\n",
      "Epoch 24/50\n",
      "2/2 [==============================] - 0s 5ms/step - loss: 1.4502\n",
      "Epoch 25/50\n",
      "2/2 [==============================] - 0s 7ms/step - loss: 1.8751\n",
      "Epoch 26/50\n",
      "2/2 [==============================] - 0s 9ms/step - loss: 1.0402\n",
      "Epoch 27/50\n",
      "2/2 [==============================] - 0s 8ms/step - loss: 1.0492\n",
      "Epoch 28/50\n",
      "2/2 [==============================] - 0s 77ms/step - loss: 0.7591\n",
      "Epoch 29/50\n",
      "2/2 [==============================] - 0s 9ms/step - loss: 0.7663\n",
      "Epoch 30/50\n",
      "2/2 [==============================] - 0s 3ms/step - loss: 0.9906\n",
      "Epoch 31/50\n",
      "2/2 [==============================] - 0s 4ms/step - loss: 1.4804\n",
      "Epoch 32/50\n",
      "2/2 [==============================] - 0s 9ms/step - loss: 0.6221\n",
      "Epoch 33/50\n",
      "2/2 [==============================] - 0s 8ms/step - loss: 1.0597\n",
      "Epoch 34/50\n",
      "2/2 [==============================] - 0s 3ms/step - loss: 0.8578\n",
      "Epoch 35/50\n",
      "2/2 [==============================] - 0s 2ms/step - loss: 1.1416\n",
      "Epoch 36/50\n",
      "2/2 [==============================] - 0s 2ms/step - loss: 0.6956\n",
      "Epoch 37/50\n",
      "2/2 [==============================] - 0s 3ms/step - loss: 0.8369\n",
      "Epoch 38/50\n",
      "2/2 [==============================] - 0s 2ms/step - loss: 0.9051\n",
      "Epoch 39/50\n",
      "2/2 [==============================] - 0s 3ms/step - loss: 0.8551\n",
      "Epoch 40/50\n",
      "2/2 [==============================] - 0s 3ms/step - loss: 1.0122\n",
      "Epoch 41/50\n",
      "2/2 [==============================] - 0s 6ms/step - loss: 0.7056\n",
      "Epoch 42/50\n",
      "2/2 [==============================] - 0s 5ms/step - loss: 0.7823\n",
      "Epoch 43/50\n",
      "2/2 [==============================] - 0s 28ms/step - loss: 0.7144\n",
      "Epoch 44/50\n",
      "2/2 [==============================] - 0s 5ms/step - loss: 0.9250\n",
      "Epoch 45/50\n",
      "2/2 [==============================] - 0s 8ms/step - loss: 0.4442\n",
      "Epoch 46/50\n",
      "2/2 [==============================] - 0s 5ms/step - loss: 0.6921\n",
      "Epoch 47/50\n",
      "2/2 [==============================] - 0s 7ms/step - loss: 0.8878\n",
      "Epoch 48/50\n",
      "2/2 [==============================] - 0s 8ms/step - loss: 0.6845\n",
      "Epoch 49/50\n",
      "2/2 [==============================] - 0s 3ms/step - loss: 0.9449\n",
      "Epoch 50/50\n",
      "2/2 [==============================] - 0s 6ms/step - loss: 0.7498\n"
     ]
    },
    {
     "data": {
      "text/plain": [
       "<tensorflow.python.keras.callbacks.History at 0x7fc037218390>"
      ]
     },
     "execution_count": 7,
     "metadata": {},
     "output_type": "execute_result"
    }
   ],
   "source": [
    "model.fit(X, y, batch_size=10, epochs=50)"
   ]
  },
  {
   "cell_type": "code",
   "execution_count": 8,
   "metadata": {},
   "outputs": [],
   "source": [
    "pred = np.stack([model(X).numpy() for _ in range(100)])"
   ]
  },
  {
   "cell_type": "code",
   "execution_count": 9,
   "metadata": {},
   "outputs": [
    {
     "data": {
      "text/plain": [
       "<matplotlib.legend.Legend at 0x7fc036bd8f90>"
      ]
     },
     "execution_count": 9,
     "metadata": {},
     "output_type": "execute_result"
    },
    {
     "data": {
      "image/png": "[encoded data removed]",
      "text/plain": [
       "<Figure size 432x288 with 1 Axes>"
      ]
     },
     "metadata": {
      "needs_background": "light"
     },
     "output_type": "display_data"
    }
   ],
   "source": [
    "plt.scatter(X, y, label=\"actual\")\n",
    "plt.plot(X, pred.mean(axis=0), color='red', label=\"predict\")\n",
    "plt.fill_between(X.flatten(), \n",
    "                 (pred.mean(axis=0) + 2 * pred.std(axis=0)).flatten(), \n",
    "                 (pred.mean(axis=0) - 2 * pred.std(axis=0)).flatten(), \n",
    "                 alpha=0.5, label='uncertainty')\n",
    "plt.legend()"
   ]
  }
 ],
 "metadata": {
  "kernelspec": {
   "display_name": "Python 3",
   "language": "python",
   "name": "python3"
  },
  "language_info": {
   "codemirror_mode": {
    "name": "ipython",
    "version": 3
   },
   "file_extension": ".py",
   "mimetype": "text/x-python",
   "name": "python",
   "nbconvert_exporter": "python",
   "pygments_lexer": "ipython3",
   "version": "3.7.4"
  }
 },
 "nbformat": 4,
 "nbformat_minor": 4
}
